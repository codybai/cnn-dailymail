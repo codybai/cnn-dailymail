{
 "cells": [
  {
   "cell_type": "markdown",
   "metadata": {},
   "source": [
    "# 将每个数据集文件拆分个多个小文件，每个小文件包含一个故事的内容和标题，以 ID 命名"
   ]
  },
  {
   "cell_type": "code",
   "execution_count": 53,
   "metadata": {},
   "outputs": [],
   "source": [
    "import time\n",
    "import os\n",
    "\n",
    "stories_dir = \"/media/tao/文件和数据/dataset/bytecup2018\"\n",
    "split_stories_dir = \"/media/tao/文件和数据/dataset/bytecup2018/split_stories\"\n",
    "tokenized_stories_dir = \"/media/tao/文件和数据/dataset/bytecup2018/tokenized_stories\"\n",
    "finished_files_dir = \"/media/tao/6F0855440D2070BB/code/python/Headline_Generation/Get to the point/cnn-dailymail-master/bytecup/finished_files\"\n",
    "chunks_dir = os.path.join(finished_files_dir, \"chunked\")\n",
    "file_names = [\"for_test.txt\"]\n",
    "# file_names = [\"bytecup.corpus.train.{}.txt\".format(i) for i in range(8,9)]\n",
    "\n",
    "if not os.path.exists(split_stories_dir): os.makedirs(split_stories_dir)\n",
    "if not os.path.exists(tokenized_stories_dir): os.makedirs(tokenized_stories_dir)\n",
    "if not os.path.exists(finished_files_dir): os.makedirs(finished_files_dir)\n",
    "if not os.path.exists(chunks_dir): os.makedirs(chunks_dir)\n"
   ]
  },
  {
   "cell_type": "code",
   "execution_count": 15,
   "metadata": {},
   "outputs": [
    {
     "name": "stdout",
     "output_type": "stream",
     "text": [
      "Opening file: for_test.txt...\n",
      "completed\n",
      "\n"
     ]
    }
   ],
   "source": [
    "import json\n",
    "import os\n",
    "\n",
    "for name in file_names:\n",
    "    file_dir = os.path.join(stories_dir, name)\n",
    "    heads = []\n",
    "    desc = []\n",
    "\n",
    "    print('Opening file: %s...' % name)\n",
    "    with open(file_dir, 'r') as load_f:\n",
    "        lines = load_f.readlines()\n",
    "        for i, line in enumerate(lines):\n",
    "            txt_dic = json.loads(line)\n",
    "\n",
    "            split_file_dir = os.path.join(split_stories_dir, str(txt_dic['id']))\n",
    "            with open(split_file_dir, \"w\") as f:\n",
    "                f.write(txt_dic['content'])\n",
    "                f.write(\" . \\n\\n@title.\\n\")\n",
    "                f.write(txt_dic['title'])\n",
    "                \n",
    "    print(\"completed\\n\")"
   ]
  },
  {
   "cell_type": "markdown",
   "metadata": {},
   "source": [
    "# 使用 Stanford CoreNLP Tokenization 将每个文件进行按句、按词进行 token 并存放在另一个文件夹中\n",
    "\n",
    "DIVIDE_SENTENCE 为 Ture 表示分句子，否则不分句子"
   ]
  },
  {
   "cell_type": "code",
   "execution_count": 36,
   "metadata": {},
   "outputs": [],
   "source": [
    "DIVIDE_SENTENCE = False"
   ]
  },
  {
   "cell_type": "markdown",
   "metadata": {},
   "source": [
    "### 只分词，不分句（先生成映射文件 mapping，再使用 PTBTokenizer 对文件进行直接操作）"
   ]
  },
  {
   "cell_type": "code",
   "execution_count": 31,
   "metadata": {},
   "outputs": [],
   "source": [
    "import subprocess\n",
    "\n",
    "if not DIVIDE_SENTENCE:\n",
    "\n",
    "    time_start = time.time()\n",
    "    \n",
    "    stories = os.listdir(split_stories_dir)\n",
    "    #生成映射文件 mapping.txt\n",
    "    print(\"Making list of files to tokenize...\")\n",
    "    with open(\"mapping.txt\", \"w\") as f:\n",
    "        for s in stories:\n",
    "            f.write(\"%s \\t %s\\n\" % (os.path.join(split_stories_dir, s), os.path.join(tokenized_stories_dir, s)))\n",
    "    print(\"completed\\n\")\n",
    "    \n",
    "    # Doesn't work\n",
    "    # command = ['java', 'edu.stanford.nlp.process.DocumentPreprocessor', '-ioFileList', '-preserveLines', 'mapping.txt']\n",
    "    \n",
    "    command = ['java', 'edu.stanford.nlp.process.PTBTokenizer', '-ioFileList', '-preserveLines', 'mapping.txt']\n",
    "    subprocess.call(command)\n",
    "    \n",
    "    # Doesn't work\n",
    "    # os.system(\"java edu.stanford.nlp.process.DocumentPreprocessor -ioFileList -preserveLines mapping.txt\")\n",
    "    \n",
    "    time_end = time.time()\n",
    "    print('Consume time:', time_end - time_start)\n",
    "    os.remove(\"mapping.txt\")"
   ]
  },
  {
   "cell_type": "markdown",
   "metadata": {},
   "source": [
    "### 分句加分词（无法利用映射文件进行分词，有BUG，故只能一个一个文件分词）"
   ]
  },
  {
   "cell_type": "code",
   "execution_count": 32,
   "metadata": {},
   "outputs": [
    {
     "name": "stdout",
     "output_type": "stream",
     "text": [
      "Consume time: 1.1641461849212646\n"
     ]
    }
   ],
   "source": [
    "import os\n",
    "if DIVIDE_SENTENCE:\n",
    "    \n",
    "    time_start = time.time()\n",
    "    \n",
    "    stories = os.listdir(split_stories_dir)\n",
    "    for s in stories:\n",
    "        os.system(\"java edu.stanford.nlp.process.DocumentPreprocessor -preserveLines < %s > %s\" %\n",
    "                  (os.path.join(split_stories_dir, s), os.path.join(tokenized_stories_dir, s)))\n",
    "\n",
    "    time_end = time.time()\n",
    "    print('Consume time:', time_end - time_start)"
   ]
  },
  {
   "cell_type": "markdown",
   "metadata": {},
   "source": [
    "# 写入 bin 文件"
   ]
  },
  {
   "cell_type": "markdown",
   "metadata": {},
   "source": [
    "### 根据文件地址读文件，返回行列表"
   ]
  },
  {
   "cell_type": "code",
   "execution_count": 33,
   "metadata": {},
   "outputs": [],
   "source": [
    "def read_text_file(text_file):\n",
    "    lines = []\n",
    "    with open(text_file, \"r\") as f:\n",
    "        for line in f:\n",
    "            lines.append(line.strip())\n",
    "        return lines"
   ]
  },
  {
   "cell_type": "markdown",
   "metadata": {},
   "source": [
    "### 根据文件内容获得文章和摘要"
   ]
  },
  {
   "cell_type": "code",
   "execution_count": 34,
   "metadata": {},
   "outputs": [],
   "source": [
    "SENTENCE_START = '<s>'\n",
    "SENTENCE_END = '</s>'\n",
    "\n",
    "def get_art_abs(story_file):\n",
    "    lines = read_text_file(story_file)\n",
    "\n",
    "    # Lowercase everything\n",
    "    lines = [line.lower() for line in lines]\n",
    "\n",
    "    # Separate out article and abstract sentences\n",
    "    article_lines = []\n",
    "    titles = []\n",
    "    next_is_title = False\n",
    "    for idx,line in enumerate(lines):\n",
    "        if line == \"\":\n",
    "            continue # empty line\n",
    "        elif line.startswith(\"@title\"):\n",
    "            next_is_title = True\n",
    "        elif next_is_title:\n",
    "            titles.append(line)\n",
    "        else:\n",
    "            article_lines.append(line)\n",
    "\n",
    "    # Make article into a single string\n",
    "    article = ' '.join(article_lines)\n",
    "\n",
    "    # Make abstract into a signle string, putting <s> and </s> tags around the sentences\n",
    "    title = ' '.join([\"%s %s %s\" % (SENTENCE_START, sent, SENTENCE_END) for sent in titles])\n",
    "\n",
    "    return article, title"
   ]
  },
  {
   "cell_type": "markdown",
   "metadata": {},
   "source": [
    "### 写入 bin 文件"
   ]
  },
  {
   "cell_type": "code",
   "execution_count": 51,
   "metadata": {
    "scrolled": true
   },
   "outputs": [],
   "source": [
    "from tensorflow.core.example import example_pb2\n",
    "import struct\n",
    "\n",
    "def write_to_bin(src_dir, out_file):\n",
    "    \n",
    "    with open(out_file, 'wb') as writer:\n",
    "        \n",
    "        stories = os.listdir(src_dir)\n",
    "        for idx, s in enumerate(stories):\n",
    "            story_file = os.path.join(tokenized_stories_dir, s)\n",
    "            article, title = get_art_abs(story_file)\n",
    "        #     print(\"article: \\n%s\\n\\n\"%article)\n",
    "        #     print(\"title: \\n%s\\n\" % title)\n",
    "\n",
    "            tf_example = example_pb2.Example()\n",
    "            tf_example.features.feature['article'].bytes_list.value.extend([article.encode()])\n",
    "            tf_example.features.feature['abstract'].bytes_list.value.extend([title.encode()])\n",
    "            tf_example_str = tf_example.SerializeToString()\n",
    "\n",
    "            str_len = len(tf_example_str)\n",
    "            writer.write(struct.pack('q', str_len))\n",
    "            writer.write(struct.pack('%ds' % str_len, tf_example_str))"
   ]
  },
  {
   "cell_type": "code",
   "execution_count": 52,
   "metadata": {},
   "outputs": [],
   "source": [
    "write_to_bin(tokenized_stories_dir, os.path.join(finished_files_dir, \"test.bin\"))"
   ]
  },
  {
   "cell_type": "markdown",
   "metadata": {},
   "source": [
    "### 将文件分块，每个块的文章个数为 CHUNK_SIZE"
   ]
  },
  {
   "cell_type": "code",
   "execution_count": 57,
   "metadata": {},
   "outputs": [
    {
     "name": "stdout",
     "output_type": "stream",
     "text": [
      "Splitting test data into chunks...\n",
      "Saved chunked data in /media/tao/6F0855440D2070BB/code/python/Headline_Generation/Get to the point/cnn-dailymail-master/bytecup/finished_files/chunked\n"
     ]
    }
   ],
   "source": [
    "CHUNK_SIZE = 1000 # num examples per chunk, for the chunked data\n",
    "\n",
    "def chunk_file(set_name):\n",
    "    in_file = os.path.join(finished_files_dir, '%s.bin' % set_name)\n",
    "    with open(in_file, 'rb') as reader:\n",
    "        chunk = 0\n",
    "        finished = False\n",
    "        while not finished:\n",
    "            chunk_fname = os.path.join(chunks_dir, '%s_%03d.bin' % (set_name, chunk)) # new chunk\n",
    "            with open(chunk_fname, 'wb') as writer:\n",
    "                for _ in range(CHUNK_SIZE):\n",
    "                    len_bytes = reader.read(8)\n",
    "                    if not len_bytes:\n",
    "                        finished = True\n",
    "                        break\n",
    "                    str_len = struct.unpack('q', len_bytes)[0]\n",
    "                    example_str = struct.unpack('%ds' % str_len, reader.read(str_len))[0]\n",
    "                    writer.write(struct.pack('q', str_len))\n",
    "                    writer.write(struct.pack('%ds' % str_len, example_str))\n",
    "                chunk += 1\n",
    "            \n",
    "def chunk_all():\n",
    "    # Chunk the data\n",
    "#     for set_name in ['train', 'val', 'test']:\n",
    "    for set_name in ['test']:\n",
    "        print(\"Splitting %s data into chunks...\" % set_name)\n",
    "        chunk_file(set_name)\n",
    "    print(\"Saved chunked data in %s\" % chunks_dir)\n",
    "    \n",
    "# 分块\n",
    "chunk_all()"
   ]
  },
  {
   "cell_type": "code",
   "execution_count": null,
   "metadata": {},
   "outputs": [],
   "source": []
  }
 ],
 "metadata": {
  "kernelspec": {
   "display_name": "Python 3",
   "language": "python",
   "name": "python3"
  },
  "language_info": {
   "codemirror_mode": {
    "name": "ipython",
    "version": 3
   },
   "file_extension": ".py",
   "mimetype": "text/x-python",
   "name": "python",
   "nbconvert_exporter": "python",
   "pygments_lexer": "ipython3",
   "version": "3.5.2"
  }
 },
 "nbformat": 4,
 "nbformat_minor": 1
}
